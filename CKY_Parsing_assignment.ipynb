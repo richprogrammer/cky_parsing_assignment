{
 "cells": [
  {
   "cell_type": "markdown",
   "id": "acd0ae60",
   "metadata": {},
   "source": [
    "# Assignment: CKY Parsing\n",
    "\n",
    "## Natural Language Processing\n",
    "\n",
    "## Name: Richard Lee"
   ]
  },
  {
   "cell_type": "markdown",
   "id": "f11823d4",
   "metadata": {},
   "source": [
    "### Overview\n",
    "\n",
    "In this assignment, we will be building a simple parser that is trained from the ATIS (Air Traffic Information System) portion of the Penn Treebank. The training data consists of short queries and commands spoken by users of a fake robot travel agent.\n",
    "\n",
    "The files provided and their purpose are listed below:\n",
    "\n",
    "    - `train.trees.pre.unk` contains the trees of the training data: binary branching trees with all words that only appear once replaced with `<unk>`  \n",
    "    - `dev.strings` contains the Strings of the development data\n",
    "    - `dev.trees` contains the trees of the development data\n",
    "    - `test.strings` contains the Strings of the test data\n",
    "    - `test.trees` contains the trees of the test data\n",
    "    - `preprocess.py` contains the preprocessor\n",
    "    - `postprocess.py` contains the postprocessor\n",
    "    - `evalb.py` contains a script to compute the labeled precision, recall, and F1 \n",
    "    - `trees.py` is used by other scripts"
   ]
  },
  {
   "cell_type": "markdown",
   "id": "beaa91c0",
   "metadata": {},
   "source": [
    "### Setup\n",
    "    \n",
    "Import the `trees` package and read the first line of `train.trees.pre.unk` into a variable named `line`. Then, run the following cell to display the tree. The line `trees.Tree.from_str(line)` will be a useful line of code in this assignment."
   ]
  },
  {
   "cell_type": "code",
   "execution_count": 1,
   "id": "d5785914",
   "metadata": {
    "execution": {
     "iopub.execute_input": "2023-08-23T18:14:14.796702Z",
     "iopub.status.busy": "2023-08-23T18:14:14.795701Z",
     "iopub.status.idle": "2023-08-23T18:14:14.817704Z",
     "shell.execute_reply": "2023-08-23T18:14:14.816732Z",
     "shell.execute_reply.started": "2023-08-23T18:14:14.796702Z"
    },
    "tags": []
   },
   "outputs": [],
   "source": [
    "import trees\n",
    "\n",
    "with open('./train.trees.pre.unk', 'r') as file:\n",
    "    line = file.readline().strip()\n"
   ]
  },
  {
   "cell_type": "code",
   "execution_count": 2,
   "id": "e6d07935",
   "metadata": {
    "execution": {
     "iopub.execute_input": "2023-08-23T18:14:14.958882Z",
     "iopub.status.busy": "2023-08-23T18:14:14.958882Z",
     "iopub.status.idle": "2023-08-23T18:14:14.975006Z",
     "shell.execute_reply": "2023-08-23T18:14:14.974002Z",
     "shell.execute_reply.started": "2023-08-23T18:14:14.958882Z"
    },
    "scrolled": true,
    "tags": []
   },
   "outputs": [
    {
     "name": "stdout",
     "output_type": "stream",
     "text": [
      "                                   TOP\n",
      "         ┌──────────────────────────┴──────────────────────────┐\n",
      "        S_VP                                                  PUNC\n",
      "  ┌──────┴───────┐                                             │\n",
      "  VB             NP                                            .\n",
      "  │    ┌─────────┴─────────┐\n",
      "List   NP                 NP*\n",
      "    ┌──┴──┐       ┌────────┴─────────┐\n",
      "    DT   NNS      PP                NP*\n",
      "    │     │    ┌──┴───┐       ┌──────┴───────┐\n",
      "   the flights IN   NP_NNP    PP            SBAR\n",
      "               │      │     ┌─┴──┐       ┌───┴────┐\n",
      "             from Baltimore TO NP_NNP WHNP_WDT   S_VP\n",
      "                            │    │       │     ┌──┴──┐\n",
      "                           to Seattle  that   VBP    PP\n",
      "                                               │  ┌──┴───┐\n",
      "                                             stop IN   NP_NNP\n",
      "                                                  │      │\n",
      "                                                 in Minneapolis\n"
     ]
    }
   ],
   "source": [
    "sample_tree = trees.Tree.from_str(line)\n",
    "print(sample_tree.pretty_print())"
   ]
  },
  {
   "cell_type": "markdown",
   "id": "d1cebe0e",
   "metadata": {},
   "source": [
    "### Training\n",
    "\n",
    "Write code to learn a probabilistic context-free grammar from the tree data and store it in the following format:\n",
    "\n",
    "    NP -> DT NN, 0.5\n",
    "    NP -> DT NNS, 0.5\n",
    "    DT -> the, 1.0\n",
    "    NN -> boy, 0.5\n",
    "    NN -> girl, 0.5\n",
    "    NNS -> boys, 0.5\n",
    "    NNS -> girls, 0.5\n",
    "    \n",
    "To do this, create a `get_rules` function that reads in the trees from the `train.trees.pre.unk` file and stores the rules found in these trees in a dictionary called `rules`, with the rule as the key, and its count as the value. Run the following cell to run your function on the training data and report the number of unique rules found as well as the top 5 most frequent rules, along with their counts. (It is highly recommended that you study the trees.py code.)"
   ]
  },
  {
   "cell_type": "code",
   "execution_count": 3,
   "id": "d2dec8cc",
   "metadata": {
    "execution": {
     "iopub.execute_input": "2023-08-23T18:14:15.314014Z",
     "iopub.status.busy": "2023-08-23T18:14:15.314014Z",
     "iopub.status.idle": "2023-08-23T18:14:15.333117Z",
     "shell.execute_reply": "2023-08-23T18:14:15.332139Z",
     "shell.execute_reply.started": "2023-08-23T18:14:15.314014Z"
    },
    "tags": []
   },
   "outputs": [],
   "source": [
    "def get_rules(filename):\n",
    "    \n",
    "    with open(filename) as f:\n",
    "        lines = f.readlines()\n",
    "\n",
    "    rules = {}\n",
    "\n",
    "    for line in lines:\n",
    "        tree = trees.Tree.from_str(line)\n",
    "\n",
    "        # Use the Tree class in trees.py\n",
    "        for node in tree.bottomup():\n",
    "            if len(node.children) == 1:\n",
    "                RHS = node.children[0].label\n",
    "            elif len(node.children) < 1:\n",
    "                continue\n",
    "            elif len(node.children) == 2:\n",
    "                RHS = node.children[0].label + \" \" + node.children[1].label\n",
    "\n",
    "            rule = \"\" + node.label + \" -> \" + RHS\n",
    "            if rule in rules.keys():\n",
    "                rules[rule] = rules[rule] + 1\n",
    "            else:\n",
    "                rules[rule] = 1\n",
    "\n",
    "    return rules"
   ]
  },
  {
   "cell_type": "code",
   "execution_count": 4,
   "id": "7e8924f6",
   "metadata": {
    "execution": {
     "iopub.execute_input": "2023-08-23T18:14:15.522005Z",
     "iopub.status.busy": "2023-08-23T18:14:15.521003Z",
     "iopub.status.idle": "2023-08-23T18:14:15.645790Z",
     "shell.execute_reply": "2023-08-23T18:14:15.644748Z",
     "shell.execute_reply.started": "2023-08-23T18:14:15.522005Z"
    },
    "tags": []
   },
   "outputs": [
    {
     "name": "stdout",
     "output_type": "stream",
     "text": [
      "There are 754 unique rules in the file.\n",
      "The 5 most frequent rules and their counts are: \n",
      "('PUNC -> .', 346)\n",
      "('TO -> to', 241)\n",
      "('PP -> IN NP_NNP', 239)\n",
      "('IN -> from', 218)\n",
      "('PP -> IN NP', 197)\n"
     ]
    }
   ],
   "source": [
    "rules = get_rules(\"train.trees.pre.unk\")\n",
    "\n",
    "ordered_rules_list = list(sorted(rules.items(), key=lambda x:x[1], reverse=True))\n",
    "print(\"There are \" + str(len(rules.keys())) + \" unique rules in the file.\")\n",
    "print(\"The 5 most frequent rules and their counts are: \")\n",
    "for i in range(5):\n",
    "    print(ordered_rules_list[i])"
   ]
  },
  {
   "cell_type": "markdown",
   "id": "2f7e50e6",
   "metadata": {},
   "source": [
    "Now, write a function that takes a dictionary of rules and their counts and creates a new dictionary called `rule_probs` that stores the conditional probability of each rule. For example, if there are two rules for `NP` which are both seen an equal number of times in the training data, both of their probabilities would be 50%. Run the following cell to run your function on the rules dictionary and report the top five highest probability rules with left-hand side NNP as well as their probabilities."
   ]
  },
  {
   "cell_type": "code",
   "execution_count": 5,
   "id": "9a712cbb",
   "metadata": {
    "execution": {
     "iopub.execute_input": "2023-08-23T18:14:15.900117Z",
     "iopub.status.busy": "2023-08-23T18:14:15.899106Z",
     "iopub.status.idle": "2023-08-23T18:14:15.913314Z",
     "shell.execute_reply": "2023-08-23T18:14:15.912244Z",
     "shell.execute_reply.started": "2023-08-23T18:14:15.900117Z"
    },
    "tags": []
   },
   "outputs": [],
   "source": [
    "\n",
    "def get_probs(rules):\n",
    "\n",
    "    probs = {}\n",
    "    lhs_counts = {}\n",
    "\n",
    "    # Calculate the total counts for each LHS\n",
    "    for rule in rules:\n",
    "        lhs = rule.split(' -> ')[0]\n",
    "        lhs_counts[lhs] = lhs_counts.get(lhs, 0) + rules[rule]\n",
    "\n",
    "    # Calculate probabilities for each rule\n",
    "    for rule in rules:\n",
    "        lhs = rule.split(' -> ')[0]\n",
    "        probs[rule] = rules[rule] / lhs_counts[lhs]\n",
    "\n",
    "    return probs\n"
   ]
  },
  {
   "cell_type": "code",
   "execution_count": 6,
   "id": "1b43fe3d",
   "metadata": {
    "execution": {
     "iopub.execute_input": "2023-08-23T18:14:16.082443Z",
     "iopub.status.busy": "2023-08-23T18:14:16.082443Z",
     "iopub.status.idle": "2023-08-23T18:14:16.098894Z",
     "shell.execute_reply": "2023-08-23T18:14:16.097891Z",
     "shell.execute_reply.started": "2023-08-23T18:14:16.082443Z"
    },
    "tags": []
   },
   "outputs": [
    {
     "name": "stdout",
     "output_type": "stream",
     "text": [
      "There were 62 unique NNP rules found.\n",
      "The 5 most frequent NNP rules were: \n",
      "('NNP -> San', 0.07352941176470588)\n",
      "('NNP -> City', 0.07107843137254902)\n",
      "('NNP -> New', 0.061274509803921566)\n",
      "('NNP -> Las', 0.058823529411764705)\n",
      "('NNP -> Vegas', 0.058823529411764705)\n"
     ]
    }
   ],
   "source": [
    "rule_probs = get_probs(rules)\n",
    "\n",
    "NNP_rule_probs = {}\n",
    "for rule in rule_probs:\n",
    "    rule_split = rule.split(' -> ')\n",
    "    if rule_split[0] == 'NNP':\n",
    "        NNP_rule_probs[rule] = rule_probs[rule]\n",
    "\n",
    "ordered_NNP_rule_probs = list(sorted(NNP_rule_probs.items(), key=lambda x:x[1], reverse=True))\n",
    "print('There were ' + str(len(NNP_rule_probs.keys())) + ' unique NNP rules found.')\n",
    "print('The 5 most frequent NNP rules were: ')\n",
    "for i in range(5):\n",
    "    print(ordered_NNP_rule_probs[i])"
   ]
  },
  {
   "cell_type": "markdown",
   "id": "038ab3b4",
   "metadata": {},
   "source": [
    "### Parsing\n",
    "\n",
    "Now write a `CKY` function that takes a sentence and the grammar (the `rule_probs`) as input and runs the CKY algorithm to fill a chart with the highest probability partial parses. Return the filled in chart."
   ]
  },
  {
   "cell_type": "code",
   "execution_count": 7,
   "id": "9062899c",
   "metadata": {
    "execution": {
     "iopub.execute_input": "2023-08-23T18:14:16.758225Z",
     "iopub.status.busy": "2023-08-23T18:14:16.758225Z",
     "iopub.status.idle": "2023-08-23T18:14:16.786520Z",
     "shell.execute_reply": "2023-08-23T18:14:16.784508Z",
     "shell.execute_reply.started": "2023-08-23T18:14:16.758225Z"
    },
    "tags": []
   },
   "outputs": [],
   "source": [
    "\n",
    "def CKY(sent, rule_probs):\n",
    "    words = sent.split()\n",
    "    n = len(words)\n",
    "\n",
    "    chart = [[{} for _ in range(n + 1)] for _ in range(n)]\n",
    "\n",
    "    for j in range(1, n + 1):\n",
    "        word = words[j - 1]\n",
    "        added = False\n",
    "        for rule, prob in rule_probs.items():\n",
    "            lhs, rhs = rule.split(\" -> \")\n",
    "            rhs_symbols = rhs.split()\n",
    "            if len(rhs_symbols) == 1 and rhs_symbols[0] == word:\n",
    "                chart[j - 1][j][lhs] = (prob, None, word)\n",
    "                added = True\n",
    "\n",
    "        if not added:\n",
    "            for rule, prob in rule_probs.items():\n",
    "                lhs, rhs = rule.split(\" -> \")\n",
    "                if rhs == \"<unk>\":\n",
    "                    chart[j - 1][j][lhs] = (prob, None, word) \n",
    "\n",
    "    for span in range(2, n + 1):\n",
    "        for begin in range(n - span + 1):\n",
    "            end = begin + span\n",
    "            for split in range(begin + 1, end):\n",
    "                for rule, prob in rule_probs.items():\n",
    "                    lhs, rhs = rule.split(\" -> \")\n",
    "                    rhs_symbols = rhs.split()\n",
    "                    if len(rhs_symbols) == 2:\n",
    "                        Y, Z = rhs_symbols\n",
    "                        if Y in chart[begin][split] and Z in chart[split][end]:\n",
    "                            prob_Y = chart[begin][split][Y][0]\n",
    "                            prob_Z = chart[split][end][Z][0]\n",
    "                            prob_total = prob_Y * prob_Z * prob\n",
    "                            if lhs not in chart[begin][end] or chart[begin][end][lhs][0] < prob_total:\n",
    "                                chart[begin][end][lhs] = (prob_total, split, Y, Z) \n",
    "\n",
    "    return chart\n",
    "\n"
   ]
  },
  {
   "cell_type": "markdown",
   "id": "c41261f2-6842-437b-9bba-badc69505711",
   "metadata": {},
   "source": [
    "Write a recursive `parse` function that takes in the CKY chart, the s token which is used for recursion, a row index, and a column index, and outputs the highest-probability parse. If you can’t find any parse, output a blank line. Don’t forget to replace unknown words with `<unk>`. If you encounter underflow, consider using log probabilities. Run the following cells to test your CKY parser on the dev set."
   ]
  },
  {
   "cell_type": "code",
   "execution_count": 8,
   "id": "9503e223",
   "metadata": {
    "execution": {
     "iopub.execute_input": "2023-08-23T18:14:16.867003Z",
     "iopub.status.busy": "2023-08-23T18:14:16.866002Z",
     "iopub.status.idle": "2023-08-23T18:14:16.878999Z",
     "shell.execute_reply": "2023-08-23T18:14:16.877999Z",
     "shell.execute_reply.started": "2023-08-23T18:14:16.867003Z"
    },
    "tags": []
   },
   "outputs": [],
   "source": [
    "\n",
    "def parse(chart, s='TOP', row=0, col=-1):\n",
    "    if col == -1:\n",
    "        col = len(chart)\n",
    "\n",
    "    if row >= len(chart) or col > len(chart[row]) or s not in chart[row][col]:\n",
    "        return \"\"\n",
    "\n",
    "    entry = chart[row][col][s]\n",
    "    if entry[1] is None: \n",
    "        return f\"({s} {entry[2]})\"  \n",
    "\n",
    "    split, Y, Z = entry[1:]\n",
    "    left_parse = parse(chart, Y, row, split)\n",
    "    right_parse = parse(chart, Z, split, col)\n",
    "\n",
    "    return f\"({s} {left_parse} {right_parse})\"\n",
    "\n",
    "\n"
   ]
  },
  {
   "cell_type": "code",
   "execution_count": 9,
   "id": "336ec32c",
   "metadata": {
    "execution": {
     "iopub.execute_input": "2023-08-23T18:14:17.344293Z",
     "iopub.status.busy": "2023-08-23T18:14:17.344293Z",
     "iopub.status.idle": "2023-08-23T18:14:24.141028Z",
     "shell.execute_reply": "2023-08-23T18:14:24.141028Z",
     "shell.execute_reply.started": "2023-08-23T18:14:17.344293Z"
    },
    "tags": []
   },
   "outputs": [],
   "source": [
    "# Read in dev.strings\n",
    "with open(\"dev.strings\") as f:\n",
    "    dev_lines = f.read()\n",
    "dev = dev_lines.split('\\n')\n",
    "    \n",
    "# Run parse on dev.strings\n",
    "dev_parses = []\n",
    "for i in range(len(dev)):\n",
    "    sent = dev[i]\n",
    "    my_chart = CKY(sent, rule_probs)\n",
    "    my_parse = parse(my_chart, 'TOP', 0, -1)\n",
    "    \n",
    "    dev_parses.append(my_parse)\n",
    "    \n",
    "# Save parses to dev.parses\n",
    "j = open(\"dev.parses\", \"w\")\n",
    "for tempparse in dev_parses:\n",
    "    j.write(tempparse + '\\n')\n",
    "j.close()\n"
   ]
  },
  {
   "cell_type": "markdown",
   "id": "4a068986",
   "metadata": {},
   "source": [
    "Run the next cell to generate `dev.pcfg_parses`. Do not chance the code.\n"
   ]
  },
  {
   "cell_type": "code",
   "execution_count": 10,
   "id": "b681777c-381c-48c5-b822-e293a86cf76b",
   "metadata": {
    "execution": {
     "iopub.execute_input": "2023-08-23T18:14:24.143028Z",
     "iopub.status.busy": "2023-08-23T18:14:24.143028Z",
     "iopub.status.idle": "2023-08-23T18:14:24.328362Z",
     "shell.execute_reply": "2023-08-23T18:14:24.327377Z",
     "shell.execute_reply.started": "2023-08-23T18:14:24.143028Z"
    },
    "tags": []
   },
   "outputs": [],
   "source": [
    "!python postprocess.py dev.parses > dev.pcfg_parses"
   ]
  },
  {
   "cell_type": "markdown",
   "id": "083387cd-2481-4e0e-a479-73626f46ab3e",
   "metadata": {},
   "source": [
    "Finally, run the last cell to report the first 5 lines of `dev_strings` with the probabilities."
   ]
  },
  {
   "cell_type": "code",
   "execution_count": 11,
   "id": "fa4bdbbe",
   "metadata": {
    "execution": {
     "iopub.execute_input": "2023-08-23T18:14:24.330364Z",
     "iopub.status.busy": "2023-08-23T18:14:24.330364Z",
     "iopub.status.idle": "2023-08-23T18:14:24.605933Z",
     "shell.execute_reply": "2023-08-23T18:14:24.604929Z",
     "shell.execute_reply.started": "2023-08-23T18:14:24.330364Z"
    },
    "tags": []
   },
   "outputs": [
    {
     "name": "stdout",
     "output_type": "stream",
     "text": [
      "Line 0: The flight should be eleven a.m tomorrow .\n",
      "Parse: \n",
      "Probability: 0\n",
      "-----------------------------\n",
      "Line 1: I would like it to have a stop in New York and I would like a flight that serves breakfast .\n",
      "Parse: (TOP (S (S (NP_PRP I) (VP (MD would) (VP (VB like) (S (NP_PRP it) (VP (TO to) (VP (VBP have) (NP (NP (DT a) (NN stop)) (PP (IN in) (NP (NNP New) (NNP York)))))))))) (S* (CC and) (S (NP_PRP I) (VP (MD would) (VP (VB like) (NP (NP (DT a) (NN flight)) (SBAR (WHNP_WDT that) (S_VP (VBZ serves) (ADVP_RB breakfast))))))))) (PUNC .))\n",
      "Probability: 9.290910822145571e-38\n",
      "-----------------------------\n",
      "Line 2: Which of these serve dinner ?\n",
      "Parse: (TOP (SBARQ (WHNP (WHNP_WDT Which) (PP (IN of) (NP_DT these))) (SQ_VP (VBP serve) (NP_NN dinner))) (PUNC ?))\n",
      "Probability: 1.6783381809002082e-09\n",
      "-----------------------------\n",
      "Line 3: Which ones stop in Nashville ?\n",
      "Parse: (TOP (SBARQ (WHNP (WDT Which) (NNS ones)) (SQ_VP (VBP stop) (PP (IN in) (NP_NNP Nashville)))) (PUNC ?))\n",
      "Probability: 5.977981612010709e-11\n",
      "-----------------------------\n",
      "Line 4: Are there any flights arriving after eleven a.m ?\n",
      "Parse: (TOP (SQ (VBP Are) (SQ* (NP_NP_EX there) (SQ* (NP (DT any) (NNS flights)) (VP (VBG arriving) (PP (IN after) (NP (CD eleven) (RB a.m))))))) (PUNC ?))\n",
      "Probability: 6.456011171099833e-17\n",
      "-----------------------------\n"
     ]
    }
   ],
   "source": [
    "# Report first 5 lines of dev_strings with probabilities\n",
    "for i in range(5):\n",
    "    sent = dev[i]\n",
    "    my_chart = CKY(sent, rule_probs)\n",
    "    if 'TOP' in my_chart[0][-1].keys():\n",
    "        prob = my_chart[0][-1]['TOP'][0]\n",
    "    else:\n",
    "        prob = 0\n",
    "    my_parse = parse(my_chart, 'TOP', 0, -1)\n",
    "    print('Line ' + str(i) + \": \" + str(dev[i]))\n",
    "    print('Parse: ' + str(my_parse))\n",
    "    print('Probability: ' + str(prob))\n",
    "    print('-----------------------------')\n",
    "\n",
    "\n"
   ]
  },
  {
   "cell_type": "markdown",
   "id": "371c2828",
   "metadata": {},
   "source": [
    "."
   ]
  },
  {
   "cell_type": "code",
   "execution_count": 12,
   "id": "c4398851",
   "metadata": {},
   "outputs": [
    {
     "data": {
      "text/plain": [
       "[('VB -> List', 0.018072289156626505),\n",
       " ('DT -> the', 0.6262626262626263),\n",
       " ('NNS -> flights', 0.7464114832535885),\n",
       " ('NP -> DT NNS', 0.08550724637681159),\n",
       " ('IN -> from', 0.45228215767634855)]"
      ]
     },
     "execution_count": 12,
     "metadata": {},
     "output_type": "execute_result"
    }
   ],
   "source": [
    "list(rule_probs.items())[:5]"
   ]
  },
  {
   "cell_type": "code",
   "execution_count": 13,
   "id": "789efdc4",
   "metadata": {
    "scrolled": true
   },
   "outputs": [
    {
     "data": {
      "text/plain": [
       "0.5714285714285714"
      ]
     },
     "execution_count": 13,
     "metadata": {},
     "output_type": "execute_result"
    }
   ],
   "source": [
    "rule_probs['WHNP_WDT -> Which']"
   ]
  },
  {
   "cell_type": "code",
   "execution_count": 14,
   "id": "1ee204bb",
   "metadata": {},
   "outputs": [
    {
     "data": {
      "text/plain": [
       "0.08091286307053942"
      ]
     },
     "execution_count": 14,
     "metadata": {},
     "output_type": "execute_result"
    }
   ],
   "source": [
    "rule_probs['IN -> of']"
   ]
  },
  {
   "cell_type": "code",
   "execution_count": 15,
   "id": "ebdae292",
   "metadata": {},
   "outputs": [
    {
     "data": {
      "text/plain": [
       "0.5333333333333333"
      ]
     },
     "execution_count": 15,
     "metadata": {},
     "output_type": "execute_result"
    }
   ],
   "source": [
    "rule_probs['NP_DT -> these']"
   ]
  },
  {
   "cell_type": "code",
   "execution_count": 16,
   "id": "b334d3e5",
   "metadata": {
    "scrolled": true
   },
   "outputs": [
    {
     "data": {
      "text/plain": [
       "0.043859649122807015"
      ]
     },
     "execution_count": 16,
     "metadata": {},
     "output_type": "execute_result"
    }
   ],
   "source": [
    "rule_probs['VBP -> serve']"
   ]
  },
  {
   "cell_type": "code",
   "execution_count": 17,
   "id": "2fa253c4",
   "metadata": {},
   "outputs": [
    {
     "data": {
      "text/plain": [
       "0.27450980392156865"
      ]
     },
     "execution_count": 17,
     "metadata": {},
     "output_type": "execute_result"
    }
   ],
   "source": [
    "rule_probs['NP_NN -> dinner']"
   ]
  },
  {
   "cell_type": "code",
   "execution_count": 18,
   "id": "b4123042",
   "metadata": {
    "scrolled": true
   },
   "outputs": [
    {
     "data": {
      "text/plain": [
       "0.2622601279317697"
      ]
     },
     "execution_count": 18,
     "metadata": {},
     "output_type": "execute_result"
    }
   ],
   "source": [
    "rule_probs['PUNC -> ?']"
   ]
  },
  {
   "cell_type": "markdown",
   "id": "6f17696e",
   "metadata": {},
   "source": [
    "Finally, run the following cells to test your parser and `postprocess.py` again on `test.strings` and save the output to `test.pcfg_parses`and to evaluate your parser output against the correct trees in `test.trees`. The F1 score in the output of the script should be at least 90%."
   ]
  },
  {
   "cell_type": "code",
   "execution_count": 19,
   "id": "9ddc91df",
   "metadata": {
    "execution": {
     "iopub.execute_input": "2023-08-23T18:14:24.608933Z",
     "iopub.status.busy": "2023-08-23T18:14:24.607930Z",
     "iopub.status.idle": "2023-08-23T18:14:31.339928Z",
     "shell.execute_reply": "2023-08-23T18:14:31.338862Z",
     "shell.execute_reply.started": "2023-08-23T18:14:24.608933Z"
    },
    "tags": []
   },
   "outputs": [],
   "source": [
    "# Read in test.strings\n",
    "with open(\"test.strings\") as f:\n",
    "    test_lines = f.read()\n",
    "test = test_lines.split('\\n')\n",
    "\n",
    "# Run parse on test.strings\n",
    "test_parses = []\n",
    "for i in range(len(test)):\n",
    "    sent = test[i]\n",
    "    my_chart = CKY(sent, rule_probs)\n",
    "    my_parse = parse(my_chart, 'TOP', 0, -1)\n",
    "    \n",
    "    test_parses.append(my_parse)\n",
    "\n",
    "# Save parses to test.parses\n",
    "f = open(\"test.parses\", \"w\")\n",
    "for tempparse in test_parses:\n",
    "    f.write(tempparse + '\\n')\n",
    "f.close()"
   ]
  },
  {
   "cell_type": "markdown",
   "id": "abc6434e",
   "metadata": {},
   "source": [
    "Run the next cells to generate the file `eval.model`.\n",
    "You can open it to check that your F1 score is greater than 85%.\n",
    "\n",
    "Do not change the code\n"
   ]
  },
  {
   "cell_type": "code",
   "execution_count": 20,
   "id": "7e42191e",
   "metadata": {
    "execution": {
     "iopub.execute_input": "2023-08-23T19:20:30.627064Z",
     "iopub.status.busy": "2023-08-23T19:20:30.625065Z",
     "iopub.status.idle": "2023-08-23T19:20:30.862170Z",
     "shell.execute_reply": "2023-08-23T19:20:30.861182Z",
     "shell.execute_reply.started": "2023-08-23T19:20:30.627064Z"
    },
    "tags": []
   },
   "outputs": [],
   "source": [
    "!python postprocess.py test.parses > test.pcfg_parses"
   ]
  },
  {
   "cell_type": "code",
   "execution_count": 21,
   "id": "b7e5b013-a0b6-4977-9151-18dbc4c8ddeb",
   "metadata": {
    "execution": {
     "iopub.execute_input": "2023-08-23T19:24:28.782062Z",
     "iopub.status.busy": "2023-08-23T19:24:28.782062Z",
     "iopub.status.idle": "2023-08-23T19:24:28.957949Z",
     "shell.execute_reply": "2023-08-23T19:24:28.956951Z",
     "shell.execute_reply.started": "2023-08-23T19:24:28.782062Z"
    },
    "tags": []
   },
   "outputs": [],
   "source": [
    "!python evalb.py test.pcfg_parses test.trees > eval.model"
   ]
  },
  {
   "cell_type": "markdown",
   "id": "032be0ea",
   "metadata": {},
   "source": [
    "."
   ]
  }
 ],
 "metadata": {
  "kernelspec": {
   "display_name": "Python 3 (ipykernel)",
   "language": "python",
   "name": "python3"
  },
  "language_info": {
   "codemirror_mode": {
    "name": "ipython",
    "version": 3
   },
   "file_extension": ".py",
   "mimetype": "text/x-python",
   "name": "python",
   "nbconvert_exporter": "python",
   "pygments_lexer": "ipython3",
   "version": "3.9.13"
  }
 },
 "nbformat": 4,
 "nbformat_minor": 5
}
